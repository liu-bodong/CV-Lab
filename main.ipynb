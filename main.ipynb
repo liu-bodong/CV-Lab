{
 "cells": [
  {
   "cell_type": "code",
   "execution_count": 1,
   "id": "6061642c",
   "metadata": {},
   "outputs": [],
   "source": [
    "import os\n",
    "import torch\n",
    "import torch.nn as nn\n",
    "from tqdm import tqdm\n",
    "from torch.utils.data import Dataset, DataLoader, SubsetRandomSampler, Subset\n",
    "from torchvision import transforms\n",
    "from PIL import Image\n",
    "import numpy as np\n",
    "import matplotlib.pyplot as plt\n",
    "\n",
    "# from Models import attention_unet as AttnUNet, vanilla_unet as UNet\n",
    "from Models.attention_unet import AttnUNet\n",
    "from Models.unet import UNet\n",
    "\n",
    "\n",
    "%matplotlib inline"
   ]
  },
  {
   "cell_type": "code",
   "execution_count": 2,
   "id": "50e9a485",
   "metadata": {},
   "outputs": [
    {
     "name": "stdout",
     "output_type": "stream",
     "text": [
      "cuda\n"
     ]
    }
   ],
   "source": [
    "device = torch.device(\"cuda\" if torch.cuda.is_available() else \"cpu\")\n",
    "\n",
    "print(device)"
   ]
  },
  {
   "cell_type": "code",
   "execution_count": 3,
   "id": "adc1c79e",
   "metadata": {},
   "outputs": [],
   "source": [
    "class BrainMRIDataset(Dataset):\n",
    "    def __init__(self, root_dir, transform=None):\n",
    "        self.image_mask_pairs = []\n",
    "        self.transform = transform\n",
    "\n",
    "        # Loop through all patient folders\n",
    "        for patient_folder in os.listdir(root_dir):\n",
    "            patient_path = os.path.join(root_dir, patient_folder)\n",
    "            if not os.path.isdir(patient_path):\n",
    "                continue\n",
    "\n",
    "            # Collect image–mask pairs\n",
    "            for file in os.listdir(patient_path):\n",
    "                if file.endswith(\".tif\") and \"_mask\" not in file:\n",
    "                    image_path = os.path.join(patient_path, file)\n",
    "                    mask_path = image_path.replace(\".tif\", \"_mask.tif\")\n",
    "                    if os.path.exists(mask_path):\n",
    "                        self.image_mask_pairs.append((image_path, mask_path))\n",
    "\n",
    "    def __len__(self):\n",
    "        return len(self.image_mask_pairs)\n",
    "\n",
    "    def __getitem__(self, idx):\n",
    "        img_path, mask_path = self.image_mask_pairs[idx]\n",
    "\n",
    "        image = Image.open(img_path).convert(\"RGB\")\n",
    "        mask = Image.open(mask_path).convert(\"L\")\n",
    "\n",
    "        if self.transform:\n",
    "            image = self.transform(image)\n",
    "            mask = self.transform(mask)\n",
    "\n",
    "        mask = (mask > 0).float()  # Binary mask\n",
    "\n",
    "        return image, mask"
   ]
  },
  {
   "cell_type": "code",
   "execution_count": 4,
   "id": "b813cc2b",
   "metadata": {},
   "outputs": [],
   "source": [
    "# import kagglehub\n",
    "\n",
    "# # Download latest version\n",
    "# path = kagglehub.dataset_download(\"mateuszbuda/lgg-mri-segmentation\")\n",
    "\n",
    "# print(\"Path to dataset files:\", path)"
   ]
  },
  {
   "cell_type": "code",
   "execution_count": 5,
   "id": "82d10a52",
   "metadata": {},
   "outputs": [],
   "source": [
    "transform = transforms.Compose([\n",
    "    transforms.Resize((256, 256)),\n",
    "    transforms.ToTensor(),\n",
    "])\n",
    "\n",
    "dataset_root = r\"data/kaggle_3m\"  # Update this path to your dataset location\n",
    "dataset = BrainMRIDataset(root_dir=dataset_root, transform=transform)\n",
    "# dataloader = DataLoader(dataset, batch_size=8, shuffle=True)\n",
    "val_size=  0.2\n",
    "num_train = len(dataset)\n",
    "indices = list(range(num_train))\n",
    "np.random.shuffle(indices)\n",
    "split = int(np.floor(val_size * num_train))\n",
    "train_idx, val_idx = indices[split: ], indices[:split]\n",
    "train_sampler = SubsetRandomSampler(train_idx)\n",
    "val_sampler = SubsetRandomSampler(val_idx)\n",
    "train_loader = DataLoader(dataset, batch_size= 32 , sampler=train_sampler)\n",
    "val_loader = DataLoader(dataset,batch_size=32 ,sampler=val_sampler)"
   ]
  },
  {
   "cell_type": "code",
   "execution_count": 6,
   "id": "d79730b5",
   "metadata": {},
   "outputs": [],
   "source": [
    "# images, masks = next(iter(train_loader))\n",
    "# print(F\"{images.shape =}\")\n",
    "# plt.figure(figsize=(12, 6))\n",
    "# for i in range(4):\n",
    "#     plt.subplot(2, 4, i+1)\n",
    "#     plt.imshow(images[i].permute(1, 2, 0))\n",
    "#     plt.title(\"MRI Slice\")\n",
    "\n",
    "#     plt.subplot(2, 4, i+5)\n",
    "#     plt.imshow(masks[i][0], cmap='gray')\n",
    "#     plt.title(\"Tumor Mask\")\n",
    "\n",
    "# plt.tight_layout()\n",
    "# plt.show()"
   ]
  },
  {
   "cell_type": "code",
   "execution_count": 11,
   "id": "5d58d456",
   "metadata": {},
   "outputs": [
    {
     "ename": "KeyboardInterrupt",
     "evalue": "",
     "output_type": "error",
     "traceback": [
      "\u001b[1;31m---------------------------------------------------------------------------\u001b[0m",
      "\u001b[1;31mKeyboardInterrupt\u001b[0m                         Traceback (most recent call last)",
      "Cell \u001b[1;32mIn[11], line 2\u001b[0m\n\u001b[0;32m      1\u001b[0m \u001b[38;5;66;03m# model = AttnUNet(input_channels=3, out_channels=1).to(device)\u001b[39;00m\n\u001b[1;32m----> 2\u001b[0m model \u001b[38;5;241m=\u001b[39m \u001b[43mUNet\u001b[49m(in_channels\u001b[38;5;241m=\u001b[39m\u001b[38;5;241m3\u001b[39m, out_channels\u001b[38;5;241m=\u001b[39m\u001b[38;5;241m1\u001b[39m, channels\u001b[38;5;241m=\u001b[39m[\u001b[38;5;241m64\u001b[39m, \u001b[38;5;241m128\u001b[39m])\u001b[38;5;241m.\u001b[39mto(device)\n\u001b[0;32m      5\u001b[0m lr\u001b[38;5;241m=\u001b[39m \u001b[38;5;241m3e-4\u001b[39m\n\u001b[0;32m      6\u001b[0m batch \u001b[38;5;241m=\u001b[39m \u001b[38;5;241m4\u001b[39m\n",
      "Cell \u001b[1;32mIn[11], line 2\u001b[0m\n\u001b[0;32m      1\u001b[0m \u001b[38;5;66;03m# model = AttnUNet(input_channels=3, out_channels=1).to(device)\u001b[39;00m\n\u001b[1;32m----> 2\u001b[0m model \u001b[38;5;241m=\u001b[39m \u001b[43mUNet\u001b[49m(in_channels\u001b[38;5;241m=\u001b[39m\u001b[38;5;241m3\u001b[39m, out_channels\u001b[38;5;241m=\u001b[39m\u001b[38;5;241m1\u001b[39m, channels\u001b[38;5;241m=\u001b[39m[\u001b[38;5;241m64\u001b[39m, \u001b[38;5;241m128\u001b[39m])\u001b[38;5;241m.\u001b[39mto(device)\n\u001b[0;32m      5\u001b[0m lr\u001b[38;5;241m=\u001b[39m \u001b[38;5;241m3e-4\u001b[39m\n\u001b[0;32m      6\u001b[0m batch \u001b[38;5;241m=\u001b[39m \u001b[38;5;241m4\u001b[39m\n",
      "File \u001b[1;32m_pydevd_bundle\\\\pydevd_cython.pyx:1697\u001b[0m, in \u001b[0;36m_pydevd_bundle.pydevd_cython.SafeCallWrapper.__call__\u001b[1;34m()\u001b[0m\n",
      "File \u001b[1;32m_pydevd_bundle\\\\pydevd_cython.pyx:634\u001b[0m, in \u001b[0;36m_pydevd_bundle.pydevd_cython.PyDBFrame.trace_dispatch\u001b[1;34m()\u001b[0m\n",
      "File \u001b[1;32m_pydevd_bundle\\\\pydevd_cython.pyx:1112\u001b[0m, in \u001b[0;36m_pydevd_bundle.pydevd_cython.PyDBFrame.trace_dispatch\u001b[1;34m()\u001b[0m\n",
      "File \u001b[1;32m_pydevd_bundle\\\\pydevd_cython.pyx:1090\u001b[0m, in \u001b[0;36m_pydevd_bundle.pydevd_cython.PyDBFrame.trace_dispatch\u001b[1;34m()\u001b[0m\n",
      "File \u001b[1;32m_pydevd_bundle\\\\pydevd_cython.pyx:494\u001b[0m, in \u001b[0;36m_pydevd_bundle.pydevd_cython.PyDBFrame.do_wait_suspend\u001b[1;34m()\u001b[0m\n",
      "File \u001b[1;32md:\\anaconda3\\envs\\nn\\lib\\site-packages\\debugpy\\_vendored\\pydevd\\pydevd.py:2185\u001b[0m, in \u001b[0;36mPyDB.do_wait_suspend\u001b[1;34m(self, thread, frame, event, arg, exception_type)\u001b[0m\n\u001b[0;32m   2182\u001b[0m             from_this_thread\u001b[38;5;241m.\u001b[39mappend(frame_custom_thread_id)\n\u001b[0;32m   2184\u001b[0m     \u001b[38;5;28;01mwith\u001b[39;00m \u001b[38;5;28mself\u001b[39m\u001b[38;5;241m.\u001b[39m_threads_suspended_single_notification\u001b[38;5;241m.\u001b[39mnotify_thread_suspended(thread_id, thread, stop_reason):\n\u001b[1;32m-> 2185\u001b[0m         keep_suspended \u001b[38;5;241m=\u001b[39m \u001b[38;5;28;43mself\u001b[39;49m\u001b[38;5;241;43m.\u001b[39;49m\u001b[43m_do_wait_suspend\u001b[49m\u001b[43m(\u001b[49m\u001b[43mthread\u001b[49m\u001b[43m,\u001b[49m\u001b[43m \u001b[49m\u001b[43mframe\u001b[49m\u001b[43m,\u001b[49m\u001b[43m \u001b[49m\u001b[43mevent\u001b[49m\u001b[43m,\u001b[49m\u001b[43m \u001b[49m\u001b[43marg\u001b[49m\u001b[43m,\u001b[49m\u001b[43m \u001b[49m\u001b[43mtrace_suspend_type\u001b[49m\u001b[43m,\u001b[49m\u001b[43m \u001b[49m\u001b[43mfrom_this_thread\u001b[49m\u001b[43m,\u001b[49m\u001b[43m \u001b[49m\u001b[43mframes_tracker\u001b[49m\u001b[43m)\u001b[49m\n\u001b[0;32m   2187\u001b[0m frames_list \u001b[38;5;241m=\u001b[39m \u001b[38;5;28;01mNone\u001b[39;00m\n\u001b[0;32m   2189\u001b[0m \u001b[38;5;28;01mif\u001b[39;00m keep_suspended:\n\u001b[0;32m   2190\u001b[0m     \u001b[38;5;66;03m# This means that we should pause again after a set next statement.\u001b[39;00m\n",
      "File \u001b[1;32md:\\anaconda3\\envs\\nn\\lib\\site-packages\\debugpy\\_vendored\\pydevd\\pydevd.py:2254\u001b[0m, in \u001b[0;36mPyDB._do_wait_suspend\u001b[1;34m(self, thread, frame, event, arg, trace_suspend_type, from_this_thread, frames_tracker)\u001b[0m\n\u001b[0;32m   2251\u001b[0m                 queue\u001b[38;5;241m.\u001b[39mput(internal_cmd)\n\u001b[0;32m   2252\u001b[0m                 wait_timeout \u001b[38;5;241m=\u001b[39m TIMEOUT_FAST\n\u001b[1;32m-> 2254\u001b[0m         \u001b[43mnotify_event\u001b[49m\u001b[38;5;241;43m.\u001b[39;49m\u001b[43mwait\u001b[49m\u001b[43m(\u001b[49m\u001b[43mwait_timeout\u001b[49m\u001b[43m)\u001b[49m\n\u001b[0;32m   2255\u001b[0m         notify_event\u001b[38;5;241m.\u001b[39mclear()\n\u001b[0;32m   2257\u001b[0m \u001b[38;5;28;01mfinally\u001b[39;00m:\n",
      "File \u001b[1;32md:\\anaconda3\\envs\\nn\\lib\\threading.py:607\u001b[0m, in \u001b[0;36mEvent.wait\u001b[1;34m(self, timeout)\u001b[0m\n\u001b[0;32m    605\u001b[0m signaled \u001b[38;5;241m=\u001b[39m \u001b[38;5;28mself\u001b[39m\u001b[38;5;241m.\u001b[39m_flag\n\u001b[0;32m    606\u001b[0m \u001b[38;5;28;01mif\u001b[39;00m \u001b[38;5;129;01mnot\u001b[39;00m signaled:\n\u001b[1;32m--> 607\u001b[0m     signaled \u001b[38;5;241m=\u001b[39m \u001b[38;5;28;43mself\u001b[39;49m\u001b[38;5;241;43m.\u001b[39;49m\u001b[43m_cond\u001b[49m\u001b[38;5;241;43m.\u001b[39;49m\u001b[43mwait\u001b[49m\u001b[43m(\u001b[49m\u001b[43mtimeout\u001b[49m\u001b[43m)\u001b[49m\n\u001b[0;32m    608\u001b[0m \u001b[38;5;28;01mreturn\u001b[39;00m signaled\n",
      "File \u001b[1;32md:\\anaconda3\\envs\\nn\\lib\\threading.py:324\u001b[0m, in \u001b[0;36mCondition.wait\u001b[1;34m(self, timeout)\u001b[0m\n\u001b[0;32m    322\u001b[0m \u001b[38;5;28;01melse\u001b[39;00m:\n\u001b[0;32m    323\u001b[0m     \u001b[38;5;28;01mif\u001b[39;00m timeout \u001b[38;5;241m>\u001b[39m \u001b[38;5;241m0\u001b[39m:\n\u001b[1;32m--> 324\u001b[0m         gotit \u001b[38;5;241m=\u001b[39m \u001b[43mwaiter\u001b[49m\u001b[38;5;241;43m.\u001b[39;49m\u001b[43macquire\u001b[49m\u001b[43m(\u001b[49m\u001b[38;5;28;43;01mTrue\u001b[39;49;00m\u001b[43m,\u001b[49m\u001b[43m \u001b[49m\u001b[43mtimeout\u001b[49m\u001b[43m)\u001b[49m\n\u001b[0;32m    325\u001b[0m     \u001b[38;5;28;01melse\u001b[39;00m:\n\u001b[0;32m    326\u001b[0m         gotit \u001b[38;5;241m=\u001b[39m waiter\u001b[38;5;241m.\u001b[39macquire(\u001b[38;5;28;01mFalse\u001b[39;00m)\n",
      "\u001b[1;31mKeyboardInterrupt\u001b[0m: "
     ]
    }
   ],
   "source": [
    "# model = AttnUNet(input_channels=3, out_channels=1).to(device)\n",
    "model = UNet(in_channels=3, out_channels=1, channels=[64, 128]).to(device)\n",
    "\n",
    "\n",
    "lr= 3e-4\n",
    "batch = 4\n",
    "epochs = 1"
   ]
  },
  {
   "cell_type": "code",
   "execution_count": 8,
   "id": "620eae94",
   "metadata": {},
   "outputs": [],
   "source": [
    "optimizer = torch.optim.Adam(model.parameters(), lr=lr)\n",
    "crterion = nn.BCEWithLogitsLoss()"
   ]
  },
  {
   "cell_type": "code",
   "execution_count": 9,
   "id": "18771827",
   "metadata": {},
   "outputs": [],
   "source": [
    "# for epoch in range(epochs):\n",
    "#     model.train()\n",
    "#     runing_loss = 0\n",
    "#     for idx , (image,mask) in enumerate(train_loader):\n",
    "#         image = image.float().to(device)\n",
    "#         mask = mask.float().to(device)\n",
    "        \n",
    "#         out = model(image)\n",
    "#         optimizer.zero_grad()\n",
    "#         loss = crterion(out, mask)\n",
    "#         runing_loss += loss.item()\n",
    "#         loss.backward()\n",
    "#         optimizer.step()\n",
    "#     train_loss = runing_loss / idx + 1 \n",
    "#     model.eval()\n",
    "#     val_loss_runinig= 0\n",
    "#     with torch.no_grad() :  # for fast compution\n",
    "#         for idx , (image, mask) in enumerate(val_loader):\n",
    "#             image = image.float().to(device)\n",
    "#             mask = mask.float().to(device)\n",
    "#             out = model(image)\n",
    "#             loss =crterion(out, mask)\n",
    "#             val_loss_runinig += loss.item()\n",
    "#         val_loss = val_loss_runinig / idx + 1 \n",
    "#         print(f\"Epoch : {epoch + 1} ... Train Loss:{train_loss : .4f}....Val Loss: {val_loss:.4f}\")\n",
    "# torch.save(model.state_dict(), \"UNet1.pth\")"
   ]
  },
  {
   "cell_type": "code",
   "execution_count": 10,
   "id": "09df5931",
   "metadata": {},
   "outputs": [
    {
     "name": "stderr",
     "output_type": "stream",
     "text": [
      "                                                                              "
     ]
    },
    {
     "name": "stdout",
     "output_type": "stream",
     "text": [
      "Epoch : 1 ... Train Loss: 0.4020....Val Loss: 0.3047\n"
     ]
    },
    {
     "name": "stderr",
     "output_type": "stream",
     "text": [
      "\r"
     ]
    }
   ],
   "source": [
    "for epoch in range(epochs):\n",
    "    model.train()\n",
    "    runing_loss = 0\n",
    "    train_loader_tqdm = tqdm(train_loader, desc=f\"Epoch {epoch+1}/{epochs} [Train]\", leave=False)\n",
    "    for idx, (image, mask) in enumerate(train_loader_tqdm):\n",
    "        image = image.float().to(device)\n",
    "        mask = mask.float().to(device)\n",
    "        \n",
    "        out = model(image)\n",
    "        optimizer.zero_grad()\n",
    "        loss = crterion(out, mask)\n",
    "        runing_loss += loss.item()\n",
    "        loss.backward()\n",
    "        optimizer.step()\n",
    "        train_loader_tqdm.set_postfix(loss=loss.item())\n",
    "    train_loss = runing_loss / (idx + 1)\n",
    "    model.eval()\n",
    "    val_loss_runinig = 0\n",
    "    val_loader_tqdm = tqdm(val_loader, desc=f\"Epoch {epoch+1}/{epochs} [Val]\", leave=False)\n",
    "    with torch.no_grad():\n",
    "        for idx, (image, mask) in enumerate(val_loader_tqdm):\n",
    "            image = image.float().to(device)\n",
    "            mask = mask.float().to(device)\n",
    "            out = model(image)\n",
    "            loss = crterion(out, mask)\n",
    "            val_loss_runinig += loss.item()\n",
    "            val_loader_tqdm.set_postfix(loss=loss.item())\n",
    "        val_loss = val_loss_runinig / (idx + 1)\n",
    "        print(f\"Epoch : {epoch + 1} ... Train Loss:{train_loss : .4f}....Val Loss: {val_loss:.4f}\")\n",
    "torch.save(model.state_dict(), \"UNet1.pth\")"
   ]
  },
  {
   "cell_type": "code",
   "execution_count": null,
   "id": "bf151516",
   "metadata": {},
   "outputs": [
    {
     "name": "stdout",
     "output_type": "stream",
     "text": [
      "Calculating output...\n",
      "Output\n"
     ]
    }
   ],
   "source": [
    "with torch.no_grad():\n",
    "    for i, (image, mask) in enumerate(val_loader):\n",
    "        image = image.to(device)\n",
    "        mask = mask.to(device)\n",
    "\n",
    "        print(\"Calculating output...\")\n",
    "        output = model(image)               # raw logits\n",
    "        print(\"Output\")\n",
    "        probs = torch.sigmoid(output)       # probabilities\n",
    "        preds = (probs > 0.5).float()       # binary mask\n",
    "\n",
    "        # Optional: visualize\n",
    "        if i < 3:\n",
    "            import matplotlib.pyplot as plt\n",
    "            plt.figure(figsize=(12, 4))\n",
    "\n",
    "            plt.subplot(1, 3, 1)\n",
    "            plt.imshow(image[0].cpu().permute(1, 2, 0))\n",
    "            plt.title(\"Input MRI\")\n",
    "\n",
    "            plt.subplot(1, 3, 2)\n",
    "            plt.imshow(mask[0][0].cpu(), cmap='gray')\n",
    "            plt.title(\"Ground Truth Mask\")\n",
    "\n",
    "            plt.subplot(1, 3, 3)\n",
    "            plt.imshow(preds[0][0].cpu(), cmap='gray')\n",
    "            plt.title(\"Predicted Mask\")\n",
    "\n",
    "            plt.show()"
   ]
  }
 ],
 "metadata": {
  "kernelspec": {
   "display_name": "nn",
   "language": "python",
   "name": "python3"
  },
  "language_info": {
   "codemirror_mode": {
    "name": "ipython",
    "version": 3
   },
   "file_extension": ".py",
   "mimetype": "text/x-python",
   "name": "python",
   "nbconvert_exporter": "python",
   "pygments_lexer": "ipython3",
   "version": "3.10.18"
  }
 },
 "nbformat": 4,
 "nbformat_minor": 5
}
