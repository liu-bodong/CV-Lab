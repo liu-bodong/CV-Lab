{
 "cells": [
  {
   "cell_type": "code",
   "execution_count": 1,
   "id": "b9030952",
   "metadata": {},
   "outputs": [],
   "source": [
    "import torch\n",
    "import torch.nn as nn\n",
    "import torch.nn.functional as F\n",
    "from torch.nn import init\n",
    "from thop import profile\n",
    "from thop import clever_format\n",
    "\n",
    "from Models.attention_unet import AttnUNet\n",
    "from Models.unet import UNet"
   ]
  },
  {
   "cell_type": "code",
   "execution_count": 2,
   "id": "9f1a22e5",
   "metadata": {},
   "outputs": [
    {
     "name": "stdout",
     "output_type": "stream",
     "text": [
      "[INFO] Register zero_ops() for <class 'torch.nn.modules.pooling.MaxPool2d'>.\n",
      "[INFO] Register count_convNd() for <class 'torch.nn.modules.conv.Conv2d'>.\n",
      "[INFO] Register count_normalization() for <class 'torch.nn.modules.batchnorm.BatchNorm2d'>.\n",
      "[INFO] Register zero_ops() for <class 'torch.nn.modules.activation.ReLU'>.\n",
      "[INFO] Register zero_ops() for <class 'torch.nn.modules.container.Sequential'>.\n",
      "[INFO] Register count_upsample() for <class 'torch.nn.modules.upsampling.Upsample'>.\n",
      "------------------------------\n",
      "Flops  = 50.43098G\n",
      "Params = 8.82523M\n"
     ]
    }
   ],
   "source": [
    "with torch.no_grad():\n",
    "    device = torch.device(\"cpu\" if torch.cuda.is_available() else \"cpu\")\n",
    "    \n",
    "    input = torch.rand(1, 3, 256, 256).to(device)\n",
    "    model = AttnUNet(input_channels=3, out_channels=1, channels = [64, 128, 256, 512]).to(device)\n",
    "    # print(model)\n",
    "    flops, params = profile(model, (input,))\n",
    "\n",
    "    print(\"-\" * 30)\n",
    "    print(f'Flops  = {clever_format(flops, format=\"%.5f\")}')\n",
    "    print(f'Params = {clever_format(params, format=\"%.5f\")}')"
   ]
  },
  {
   "cell_type": "code",
   "execution_count": 3,
   "id": "54523c56",
   "metadata": {},
   "outputs": [
    {
     "name": "stdout",
     "output_type": "stream",
     "text": [
      "[INFO] Register zero_ops() for <class 'torch.nn.modules.pooling.MaxPool2d'>.\n",
      "[INFO] Register count_convNd() for <class 'torch.nn.modules.conv.Conv2d'>.\n",
      "[INFO] Register count_normalization() for <class 'torch.nn.modules.batchnorm.BatchNorm2d'>.\n",
      "[INFO] Register zero_ops() for <class 'torch.nn.modules.activation.ReLU'>.\n",
      "[INFO] Register zero_ops() for <class 'torch.nn.modules.container.Sequential'>.\n",
      "[INFO] Register count_upsample() for <class 'torch.nn.modules.upsampling.Upsample'>.\n",
      "------------------------------\n",
      "Flops  = 49.80946G\n",
      "Params = 8.56403M\n"
     ]
    }
   ],
   "source": [
    "# Test the Vanilla U-Net's FLOPs and parameters\n",
    "with torch.no_grad():\n",
    "    device = torch.device('cuda' if torch.cuda.is_available() else 'cpu')\n",
    "\n",
    "    input = torch.rand(1, 3, 256, 256).to(device)\n",
    "    model = UNet(3, 1, [64, 128, 256, 512]).to(device)\n",
    "    flops, params = profile(model, (input,))\n",
    "\n",
    "    print(\"-\" * 30)\n",
    "    print(f'Flops  = {clever_format(flops, format=\"%.5f\")}')\n",
    "    print(f'Params = {clever_format(params, format=\"%.5f\")}')"
   ]
  },
  {
   "cell_type": "code",
   "execution_count": null,
   "id": "8b756421",
   "metadata": {},
   "outputs": [],
   "source": []
  }
 ],
 "metadata": {
  "kernelspec": {
   "display_name": "nn",
   "language": "python",
   "name": "python3"
  },
  "language_info": {
   "codemirror_mode": {
    "name": "ipython",
    "version": 3
   },
   "file_extension": ".py",
   "mimetype": "text/x-python",
   "name": "python",
   "nbconvert_exporter": "python",
   "pygments_lexer": "ipython3",
   "version": "3.10.18"
  }
 },
 "nbformat": 4,
 "nbformat_minor": 5
}
