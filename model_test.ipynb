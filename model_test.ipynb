{
 "cells": [
  {
   "cell_type": "code",
   "execution_count": null,
   "id": "b9030952",
   "metadata": {},
   "outputs": [],
   "source": [
    "import sys\n",
    "import os\n",
    "import torch\n",
    "import torch.nn as nn\n",
    "import torch.nn.functional as F\n",
    "from torch.nn import init\n",
    "from thop import profile\n",
    "from thop import clever_format\n",
    "\n",
    "# Add the parent directory of 'models' to sys.path\n",
    "sys.path.append(os.path.abspath(os.path.join(os.getcwd(), '..')))\n",
    "\n",
    "from models.attention_unet import AttnUNet\n",
    "from models.unet import UNet"
   ]
  },
  {
   "cell_type": "code",
   "execution_count": null,
   "id": "9f1a22e5",
   "metadata": {},
   "outputs": [],
   "source": [
    "with torch.no_grad():\n",
    "    device = torch.device(\"cpu\" if torch.cuda.is_available() else \"cpu\")\n",
    "    \n",
    "    input = torch.rand(1, 3, 192, 192).to(device)\n",
    "    model = AttnUNet(input_channels=3, out_channels=1, channels = [64, 128, 256, 512]).to(device)\n",
    "    # print(model)\n",
    "    flops, params = profile(model, (input,))\n",
    "\n",
    "    print(\"-\" * 30)\n",
    "    print(f'Flops  = {clever_format(flops, format=\"%.5f\")}')\n",
    "    print(f'Params = {clever_format(params, format=\"%.5f\")}')"
   ]
  },
  {
   "cell_type": "code",
   "execution_count": null,
   "id": "54523c56",
   "metadata": {},
   "outputs": [],
   "source": [
    "# Test the Vanilla U-Net's FLOPs and parameters\n",
    "with torch.no_grad():\n",
    "    device = torch.device('cuda' if torch.cuda.is_available() else 'cpu')\n",
    "\n",
    "    input = torch.rand(1, 3, 256, 256).to(device)\n",
    "    model = UNet(3, 1, [64, 128, 256, 512]).to(device)\n",
    "    flops, params = profile(model, (input,))\n",
    "\n",
    "    print(\"-\" * 30)\n",
    "    print(f'Flops  = {clever_format(flops, format=\"%.5f\")}')\n",
    "    print(f'Params = {clever_format(params, format=\"%.5f\")}')"
   ]
  },
  {
   "cell_type": "code",
   "execution_count": null,
   "id": "8b756421",
   "metadata": {},
   "outputs": [],
   "source": []
  }
 ],
 "metadata": {
  "kernelspec": {
   "display_name": "nn",
   "language": "python",
   "name": "python3"
  },
  "language_info": {
   "codemirror_mode": {
    "name": "ipython",
    "version": 3
   },
   "file_extension": ".py",
   "mimetype": "text/x-python",
   "name": "python",
   "nbconvert_exporter": "python",
   "pygments_lexer": "ipython3",
   "version": "3.10.18"
  }
 },
 "nbformat": 4,
 "nbformat_minor": 5
}
