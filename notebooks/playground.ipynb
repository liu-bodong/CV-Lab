{
 "cells": [
  {
   "cell_type": "markdown",
   "id": "4577a109",
   "metadata": {},
   "source": [
    "### A playground for testing random stuff"
   ]
  },
  {
   "cell_type": "code",
   "execution_count": null,
   "id": "6b15b7cc",
   "metadata": {},
   "outputs": [],
   "source": [
    "import os\n",
    "import sys\n",
    "import time\n",
    "import torch\n",
    "import torch.nn as nn\n",
    "from tqdm.notebook import tqdm\n",
    "from torch.utils.data import Dataset, DataLoader, SubsetRandomSampler, Subset\n",
    "from torchvision import transforms\n",
    "from PIL import Image\n",
    "import numpy as np\n",
    "import matplotlib.pyplot as plt\n",
    "\n",
    "# Add the parent directory of 'models' to sys.path\n",
    "sys.path.append(os.path.abspath(os.path.join(os.getcwd(), '..')))\n",
    "\n",
    "# from Models import attention_unet as AttnUNet, vanilla_unet as UNet\n",
    "from networks.attention_unet import AttnUNet\n",
    "from networks.unet import UNet\n",
    "\n",
    "\n",
    "%matplotlib inline"
   ]
  },
  {
   "cell_type": "code",
   "execution_count": null,
   "id": "b71e089d",
   "metadata": {},
   "outputs": [],
   "source": [
    "\n",
    "inc = 2\n",
    "y = 0\n",
    "\n",
    "for i in tqdm(range(100), desc=\"Working\", colour=\"green\", ascii=\".|.|.|\"):\n",
    "    time.sleep(0.02)"
   ]
  },
  {
   "cell_type": "code",
   "execution_count": null,
   "id": "fd28f2ab",
   "metadata": {},
   "outputs": [],
   "source": []
  }
 ],
 "metadata": {
  "kernelspec": {
   "display_name": "nn",
   "language": "python",
   "name": "python3"
  },
  "language_info": {
   "codemirror_mode": {
    "name": "ipython",
    "version": 3
   },
   "file_extension": ".py",
   "mimetype": "text/x-python",
   "name": "python",
   "nbconvert_exporter": "python",
   "pygments_lexer": "ipython3",
   "version": "3.12.9"
  }
 },
 "nbformat": 4,
 "nbformat_minor": 5
}
