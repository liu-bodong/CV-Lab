{
 "cells": [
  {
   "cell_type": "code",
   "execution_count": null,
   "id": "053c2d97",
   "metadata": {},
   "outputs": [],
   "source": [
    "import os\n",
    "import sys\n",
    "import random\n",
    "import tqdm\n",
    "import time\n",
    "import wandb\n",
    "\n",
    "# Add the parent directory of 'models' to sys.path\n",
    "sys.path.append(os.path.abspath(os.path.join(os.getcwd(), '..')))\n",
    "\n",
    "# os.environ[\"NO PROXY\"] = \"api.wandb.ai\"\n",
    "# os.environ[\"WANDB_BASE_URL\"] = \"https://api.wandb.ai\"\n",
    "os.environ[\"WANDB_MODE\"] = \"offline\""
   ]
  },
  {
   "cell_type": "code",
   "execution_count": null,
   "id": "55ca9e7a",
   "metadata": {},
   "outputs": [],
   "source": [
    "# Start a new wandb run to track this script.\n",
    "run = wandb.init(\n",
    "    # Set the wandb entity where your project will be logged (generally your team name).\n",
    "    entity=\"liubodong-cornell-university\",\n",
    "    # Set the wandb project where this run will be logged.\n",
    "    project=\"test_project\",\n",
    "    # Track hyperparameters and run metadata.\n",
    "    config={\n",
    "        \"learning_rate\": 0.02,\n",
    "        \"architecture\": \"CNN\",\n",
    "        \"dataset\": \"CIFAR-100\",\n",
    "        \"epochs\": 10,\n",
    "    },\n",
    "    dir=\"./wandb\",\n",
    ")\n",
    "\n"
   ]
  },
  {
   "cell_type": "code",
   "execution_count": null,
   "id": "78543eff",
   "metadata": {},
   "outputs": [],
   "source": [
    "# Simulate training.\n",
    "epochs = 100\n",
    "progress = wandb.progress(total=epochs)\n",
    "offset = random.random() / 5\n",
    "\n",
    "for epoch in range(2, epochs):\n",
    "    acc = 1 - 2**-epoch - random.random() / epoch - offset\n",
    "    loss = 2**-epoch + random.random() / epoch + offset\n",
    "    progress.update(1)\n",
    "\n",
    "    # Log metrics to wandb.\n",
    "    run.log({\"acc\": acc, \"loss\": loss})\n",
    "    progress.finish()\n",
    "\n",
    "# Finish the run and upload any remaining data.\n",
    "run.finish()"
   ]
  },
  {
   "cell_type": "code",
   "execution_count": null,
   "id": "cdb8da4d",
   "metadata": {},
   "outputs": [],
   "source": [
    "run = wandb.init(project=\"tqdm-test\")\n",
    "\n",
    "for i in tqdm.tqdm(range(1000), ncols=88, ascii=True):\n",
    "    run.log({\"acc\": i / 1000})\n",
    "    time.sleep(0.2)\n",
    "\n",
    "run.finish()"
   ]
  }
 ],
 "metadata": {
  "kernelspec": {
   "display_name": "nn",
   "language": "python",
   "name": "python3"
  },
  "language_info": {
   "codemirror_mode": {
    "name": "ipython",
    "version": 3
   },
   "file_extension": ".py",
   "mimetype": "text/x-python",
   "name": "python",
   "nbconvert_exporter": "python",
   "pygments_lexer": "ipython3",
   "version": "3.10.18"
  }
 },
 "nbformat": 4,
 "nbformat_minor": 5
}
